{
 "cells": [
  {
   "cell_type": "code",
   "execution_count": 1,
   "id": "aae7eb07",
   "metadata": {},
   "outputs": [],
   "source": [
    "import numpy as np\n",
    "import pandas as pd\n",
    "import matplotlib.pyplot as plt\n",
    "import seaborn as sns \n",
    "from sklearn.model_selection import train_test_split\n",
    "from sklearn.ensemble import RandomForestRegressor\n",
    "from sklearn import metrics"
   ]
  },
  {
   "cell_type": "code",
   "execution_count": 2,
   "id": "f4ff13fc",
   "metadata": {},
   "outputs": [],
   "source": [
    "Gold_dataset = pd.read_csv(\"C:/Users/SUBHADEEP/Desktop/gld_price_data.csv\")"
   ]
  },
  {
   "cell_type": "code",
   "execution_count": 3,
   "id": "9f962b32",
   "metadata": {},
   "outputs": [
    {
     "data": {
      "text/html": [
       "<div>\n",
       "<style scoped>\n",
       "    .dataframe tbody tr th:only-of-type {\n",
       "        vertical-align: middle;\n",
       "    }\n",
       "\n",
       "    .dataframe tbody tr th {\n",
       "        vertical-align: top;\n",
       "    }\n",
       "\n",
       "    .dataframe thead th {\n",
       "        text-align: right;\n",
       "    }\n",
       "</style>\n",
       "<table border=\"1\" class=\"dataframe\">\n",
       "  <thead>\n",
       "    <tr style=\"text-align: right;\">\n",
       "      <th></th>\n",
       "      <th>Date</th>\n",
       "      <th>SPX</th>\n",
       "      <th>GLD</th>\n",
       "      <th>USO</th>\n",
       "      <th>SLV</th>\n",
       "      <th>EUR/USD</th>\n",
       "    </tr>\n",
       "  </thead>\n",
       "  <tbody>\n",
       "    <tr>\n",
       "      <th>0</th>\n",
       "      <td>1/2/2008</td>\n",
       "      <td>1447.160034</td>\n",
       "      <td>84.860001</td>\n",
       "      <td>78.470001</td>\n",
       "      <td>15.180</td>\n",
       "      <td>1.471692</td>\n",
       "    </tr>\n",
       "    <tr>\n",
       "      <th>1</th>\n",
       "      <td>1/3/2008</td>\n",
       "      <td>1447.160034</td>\n",
       "      <td>85.570000</td>\n",
       "      <td>78.370003</td>\n",
       "      <td>15.285</td>\n",
       "      <td>1.474491</td>\n",
       "    </tr>\n",
       "    <tr>\n",
       "      <th>2</th>\n",
       "      <td>1/4/2008</td>\n",
       "      <td>1411.630005</td>\n",
       "      <td>85.129997</td>\n",
       "      <td>77.309998</td>\n",
       "      <td>15.167</td>\n",
       "      <td>1.475492</td>\n",
       "    </tr>\n",
       "    <tr>\n",
       "      <th>3</th>\n",
       "      <td>1/7/2008</td>\n",
       "      <td>1416.180054</td>\n",
       "      <td>84.769997</td>\n",
       "      <td>75.500000</td>\n",
       "      <td>15.053</td>\n",
       "      <td>1.468299</td>\n",
       "    </tr>\n",
       "    <tr>\n",
       "      <th>4</th>\n",
       "      <td>1/8/2008</td>\n",
       "      <td>1390.189941</td>\n",
       "      <td>86.779999</td>\n",
       "      <td>76.059998</td>\n",
       "      <td>15.590</td>\n",
       "      <td>1.557099</td>\n",
       "    </tr>\n",
       "  </tbody>\n",
       "</table>\n",
       "</div>"
      ],
      "text/plain": [
       "       Date          SPX        GLD        USO     SLV   EUR/USD\n",
       "0  1/2/2008  1447.160034  84.860001  78.470001  15.180  1.471692\n",
       "1  1/3/2008  1447.160034  85.570000  78.370003  15.285  1.474491\n",
       "2  1/4/2008  1411.630005  85.129997  77.309998  15.167  1.475492\n",
       "3  1/7/2008  1416.180054  84.769997  75.500000  15.053  1.468299\n",
       "4  1/8/2008  1390.189941  86.779999  76.059998  15.590  1.557099"
      ]
     },
     "execution_count": 3,
     "metadata": {},
     "output_type": "execute_result"
    }
   ],
   "source": [
    "Gold_dataset.head()"
   ]
  },
  {
   "cell_type": "code",
   "execution_count": 5,
   "id": "f4c5935d",
   "metadata": {},
   "outputs": [
    {
     "data": {
      "text/html": [
       "<div>\n",
       "<style scoped>\n",
       "    .dataframe tbody tr th:only-of-type {\n",
       "        vertical-align: middle;\n",
       "    }\n",
       "\n",
       "    .dataframe tbody tr th {\n",
       "        vertical-align: top;\n",
       "    }\n",
       "\n",
       "    .dataframe thead th {\n",
       "        text-align: right;\n",
       "    }\n",
       "</style>\n",
       "<table border=\"1\" class=\"dataframe\">\n",
       "  <thead>\n",
       "    <tr style=\"text-align: right;\">\n",
       "      <th></th>\n",
       "      <th>Date</th>\n",
       "      <th>SPX</th>\n",
       "      <th>GLD</th>\n",
       "      <th>USO</th>\n",
       "      <th>SLV</th>\n",
       "      <th>EUR/USD</th>\n",
       "    </tr>\n",
       "  </thead>\n",
       "  <tbody>\n",
       "    <tr>\n",
       "      <th>2285</th>\n",
       "      <td>5/8/2018</td>\n",
       "      <td>2671.919922</td>\n",
       "      <td>124.589996</td>\n",
       "      <td>14.0600</td>\n",
       "      <td>15.5100</td>\n",
       "      <td>1.186789</td>\n",
       "    </tr>\n",
       "    <tr>\n",
       "      <th>2286</th>\n",
       "      <td>5/9/2018</td>\n",
       "      <td>2697.790039</td>\n",
       "      <td>124.330002</td>\n",
       "      <td>14.3700</td>\n",
       "      <td>15.5300</td>\n",
       "      <td>1.184722</td>\n",
       "    </tr>\n",
       "    <tr>\n",
       "      <th>2287</th>\n",
       "      <td>5/10/2018</td>\n",
       "      <td>2723.070068</td>\n",
       "      <td>125.180000</td>\n",
       "      <td>14.4100</td>\n",
       "      <td>15.7400</td>\n",
       "      <td>1.191753</td>\n",
       "    </tr>\n",
       "    <tr>\n",
       "      <th>2288</th>\n",
       "      <td>5/14/2018</td>\n",
       "      <td>2730.129883</td>\n",
       "      <td>124.489998</td>\n",
       "      <td>14.3800</td>\n",
       "      <td>15.5600</td>\n",
       "      <td>1.193118</td>\n",
       "    </tr>\n",
       "    <tr>\n",
       "      <th>2289</th>\n",
       "      <td>5/16/2018</td>\n",
       "      <td>2725.780029</td>\n",
       "      <td>122.543800</td>\n",
       "      <td>14.4058</td>\n",
       "      <td>15.4542</td>\n",
       "      <td>1.182033</td>\n",
       "    </tr>\n",
       "  </tbody>\n",
       "</table>\n",
       "</div>"
      ],
      "text/plain": [
       "           Date          SPX         GLD      USO      SLV   EUR/USD\n",
       "2285   5/8/2018  2671.919922  124.589996  14.0600  15.5100  1.186789\n",
       "2286   5/9/2018  2697.790039  124.330002  14.3700  15.5300  1.184722\n",
       "2287  5/10/2018  2723.070068  125.180000  14.4100  15.7400  1.191753\n",
       "2288  5/14/2018  2730.129883  124.489998  14.3800  15.5600  1.193118\n",
       "2289  5/16/2018  2725.780029  122.543800  14.4058  15.4542  1.182033"
      ]
     },
     "execution_count": 5,
     "metadata": {},
     "output_type": "execute_result"
    }
   ],
   "source": [
    "Gold_dataset.tail()"
   ]
  },
  {
   "cell_type": "code",
   "execution_count": 7,
   "id": "f15206f1",
   "metadata": {},
   "outputs": [
    {
     "data": {
      "text/plain": [
       "(2290, 6)"
      ]
     },
     "execution_count": 7,
     "metadata": {},
     "output_type": "execute_result"
    }
   ],
   "source": [
    "Gold_dataset.shape"
   ]
  },
  {
   "cell_type": "code",
   "execution_count": 8,
   "id": "d47ed4a3",
   "metadata": {},
   "outputs": [
    {
     "name": "stdout",
     "output_type": "stream",
     "text": [
      "<class 'pandas.core.frame.DataFrame'>\n",
      "RangeIndex: 2290 entries, 0 to 2289\n",
      "Data columns (total 6 columns):\n",
      " #   Column   Non-Null Count  Dtype  \n",
      "---  ------   --------------  -----  \n",
      " 0   Date     2290 non-null   object \n",
      " 1   SPX      2290 non-null   float64\n",
      " 2   GLD      2290 non-null   float64\n",
      " 3   USO      2290 non-null   float64\n",
      " 4   SLV      2290 non-null   float64\n",
      " 5   EUR/USD  2290 non-null   float64\n",
      "dtypes: float64(5), object(1)\n",
      "memory usage: 107.5+ KB\n"
     ]
    }
   ],
   "source": [
    "Gold_dataset.info()"
   ]
  },
  {
   "cell_type": "code",
   "execution_count": 9,
   "id": "c0b5c979",
   "metadata": {},
   "outputs": [
    {
     "data": {
      "text/plain": [
       "Date       0\n",
       "SPX        0\n",
       "GLD        0\n",
       "USO        0\n",
       "SLV        0\n",
       "EUR/USD    0\n",
       "dtype: int64"
      ]
     },
     "execution_count": 9,
     "metadata": {},
     "output_type": "execute_result"
    }
   ],
   "source": [
    "Gold_dataset.isnull().sum()"
   ]
  },
  {
   "cell_type": "code",
   "execution_count": 10,
   "id": "a5272f0a",
   "metadata": {},
   "outputs": [
    {
     "data": {
      "text/html": [
       "<div>\n",
       "<style scoped>\n",
       "    .dataframe tbody tr th:only-of-type {\n",
       "        vertical-align: middle;\n",
       "    }\n",
       "\n",
       "    .dataframe tbody tr th {\n",
       "        vertical-align: top;\n",
       "    }\n",
       "\n",
       "    .dataframe thead th {\n",
       "        text-align: right;\n",
       "    }\n",
       "</style>\n",
       "<table border=\"1\" class=\"dataframe\">\n",
       "  <thead>\n",
       "    <tr style=\"text-align: right;\">\n",
       "      <th></th>\n",
       "      <th>SPX</th>\n",
       "      <th>GLD</th>\n",
       "      <th>USO</th>\n",
       "      <th>SLV</th>\n",
       "      <th>EUR/USD</th>\n",
       "    </tr>\n",
       "  </thead>\n",
       "  <tbody>\n",
       "    <tr>\n",
       "      <th>count</th>\n",
       "      <td>2290.000000</td>\n",
       "      <td>2290.000000</td>\n",
       "      <td>2290.000000</td>\n",
       "      <td>2290.000000</td>\n",
       "      <td>2290.000000</td>\n",
       "    </tr>\n",
       "    <tr>\n",
       "      <th>mean</th>\n",
       "      <td>1654.315776</td>\n",
       "      <td>122.732875</td>\n",
       "      <td>31.842221</td>\n",
       "      <td>20.084997</td>\n",
       "      <td>1.283653</td>\n",
       "    </tr>\n",
       "    <tr>\n",
       "      <th>std</th>\n",
       "      <td>519.111540</td>\n",
       "      <td>23.283346</td>\n",
       "      <td>19.523517</td>\n",
       "      <td>7.092566</td>\n",
       "      <td>0.131547</td>\n",
       "    </tr>\n",
       "    <tr>\n",
       "      <th>min</th>\n",
       "      <td>676.530029</td>\n",
       "      <td>70.000000</td>\n",
       "      <td>7.960000</td>\n",
       "      <td>8.850000</td>\n",
       "      <td>1.039047</td>\n",
       "    </tr>\n",
       "    <tr>\n",
       "      <th>25%</th>\n",
       "      <td>1239.874969</td>\n",
       "      <td>109.725000</td>\n",
       "      <td>14.380000</td>\n",
       "      <td>15.570000</td>\n",
       "      <td>1.171313</td>\n",
       "    </tr>\n",
       "    <tr>\n",
       "      <th>50%</th>\n",
       "      <td>1551.434998</td>\n",
       "      <td>120.580002</td>\n",
       "      <td>33.869999</td>\n",
       "      <td>17.268500</td>\n",
       "      <td>1.303297</td>\n",
       "    </tr>\n",
       "    <tr>\n",
       "      <th>75%</th>\n",
       "      <td>2073.010070</td>\n",
       "      <td>132.840004</td>\n",
       "      <td>37.827501</td>\n",
       "      <td>22.882500</td>\n",
       "      <td>1.369971</td>\n",
       "    </tr>\n",
       "    <tr>\n",
       "      <th>max</th>\n",
       "      <td>2872.870117</td>\n",
       "      <td>184.589996</td>\n",
       "      <td>117.480003</td>\n",
       "      <td>47.259998</td>\n",
       "      <td>1.598798</td>\n",
       "    </tr>\n",
       "  </tbody>\n",
       "</table>\n",
       "</div>"
      ],
      "text/plain": [
       "               SPX          GLD          USO          SLV      EUR/USD\n",
       "count  2290.000000  2290.000000  2290.000000  2290.000000  2290.000000\n",
       "mean   1654.315776   122.732875    31.842221    20.084997     1.283653\n",
       "std     519.111540    23.283346    19.523517     7.092566     0.131547\n",
       "min     676.530029    70.000000     7.960000     8.850000     1.039047\n",
       "25%    1239.874969   109.725000    14.380000    15.570000     1.171313\n",
       "50%    1551.434998   120.580002    33.869999    17.268500     1.303297\n",
       "75%    2073.010070   132.840004    37.827501    22.882500     1.369971\n",
       "max    2872.870117   184.589996   117.480003    47.259998     1.598798"
      ]
     },
     "execution_count": 10,
     "metadata": {},
     "output_type": "execute_result"
    }
   ],
   "source": [
    "Gold_dataset.describe()"
   ]
  },
  {
   "cell_type": "code",
   "execution_count": 11,
   "id": "5a89b27c",
   "metadata": {},
   "outputs": [
    {
     "data": {
      "text/plain": [
       "(0, 6)"
      ]
     },
     "execution_count": 11,
     "metadata": {},
     "output_type": "execute_result"
    }
   ],
   "source": [
    "duplicate_rows= Gold_dataset[Gold_dataset.duplicated()]\n",
    "duplicate_rows.shape"
   ]
  },
  {
   "cell_type": "code",
   "execution_count": 12,
   "id": "8de14774",
   "metadata": {},
   "outputs": [],
   "source": [
    "correlation= Gold_dataset.corr()"
   ]
  },
  {
   "cell_type": "code",
   "execution_count": 18,
   "id": "fbc2af97",
   "metadata": {},
   "outputs": [
    {
     "data": {
      "text/plain": [
       "<AxesSubplot:>"
      ]
     },
     "execution_count": 18,
     "metadata": {},
     "output_type": "execute_result"
    },
    {
     "data": {
      "image/png": "[encoded data removed]",
      "text/plain": [
       "<Figure size 720x720 with 2 Axes>"
      ]
     },
     "metadata": {
      "needs_background": "light"
     },
     "output_type": "display_data"
    }
   ],
   "source": [
    "plt.figure(figsize=(10,10))\n",
    "sns.heatmap(correlation, cbar=True, square= True, fmt='.1f',annot=True, annot_kws={\"size\":8}, cmap=\"Greens\")"
   ]
  },
  {
   "cell_type": "code",
   "execution_count": 19,
   "id": "882baae3",
   "metadata": {},
   "outputs": [
    {
     "name": "stdout",
     "output_type": "stream",
     "text": [
      "SPX        0.049345\n",
      "GLD        1.000000\n",
      "USO       -0.186360\n",
      "SLV        0.866632\n",
      "EUR/USD   -0.024375\n",
      "Name: GLD, dtype: float64\n"
     ]
    }
   ],
   "source": [
    "print(correlation['GLD'])"
   ]
  },
  {
   "cell_type": "code",
   "execution_count": 20,
   "id": "3a6618b6",
   "metadata": {},
   "outputs": [
    {
     "name": "stderr",
     "output_type": "stream",
     "text": [
      "D:\\Anaconda\\lib\\site-packages\\seaborn\\distributions.py:2557: FutureWarning: `distplot` is a deprecated function and will be removed in a future version. Please adapt your code to use either `displot` (a figure-level function with similar flexibility) or `histplot` (an axes-level function for histograms).\n",
      "  warnings.warn(msg, FutureWarning)\n"
     ]
    },
    {
     "data": {
      "text/plain": [
       "<AxesSubplot:xlabel='GLD', ylabel='Density'>"
      ]
     },
     "execution_count": 20,
     "metadata": {},
     "output_type": "execute_result"
    },
    {
     "data": {
      "image/png": "[encoded data removed]",
      "text/plain": [
       "<Figure size 432x288 with 1 Axes>"
      ]
     },
     "metadata": {
      "needs_background": "light"
     },
     "output_type": "display_data"
    }
   ],
   "source": [
    "sns.distplot(Gold_dataset['GLD'],color='red')"
   ]
  },
  {
   "cell_type": "code",
   "execution_count": 21,
   "id": "1be5d6dc",
   "metadata": {},
   "outputs": [],
   "source": [
    "X= Gold_dataset.drop(['Date','GLD'],axis=1)\n",
    "Y=Gold_dataset['GLD']"
   ]
  },
  {
   "cell_type": "code",
   "execution_count": 22,
   "id": "5c17f03d",
   "metadata": {},
   "outputs": [
    {
     "name": "stdout",
     "output_type": "stream",
     "text": [
      "              SPX        USO      SLV   EUR/USD\n",
      "0     1447.160034  78.470001  15.1800  1.471692\n",
      "1     1447.160034  78.370003  15.2850  1.474491\n",
      "2     1411.630005  77.309998  15.1670  1.475492\n",
      "3     1416.180054  75.500000  15.0530  1.468299\n",
      "4     1390.189941  76.059998  15.5900  1.557099\n",
      "...           ...        ...      ...       ...\n",
      "2285  2671.919922  14.060000  15.5100  1.186789\n",
      "2286  2697.790039  14.370000  15.5300  1.184722\n",
      "2287  2723.070068  14.410000  15.7400  1.191753\n",
      "2288  2730.129883  14.380000  15.5600  1.193118\n",
      "2289  2725.780029  14.405800  15.4542  1.182033\n",
      "\n",
      "[2290 rows x 4 columns]\n"
     ]
    }
   ],
   "source": [
    "print(X)"
   ]
  },
  {
   "cell_type": "code",
   "execution_count": 23,
   "id": "76b9b0bc",
   "metadata": {},
   "outputs": [
    {
     "name": "stdout",
     "output_type": "stream",
     "text": [
      "0        84.860001\n",
      "1        85.570000\n",
      "2        85.129997\n",
      "3        84.769997\n",
      "4        86.779999\n",
      "           ...    \n",
      "2285    124.589996\n",
      "2286    124.330002\n",
      "2287    125.180000\n",
      "2288    124.489998\n",
      "2289    122.543800\n",
      "Name: GLD, Length: 2290, dtype: float64\n"
     ]
    }
   ],
   "source": [
    "print(Y)"
   ]
  },
  {
   "cell_type": "code",
   "execution_count": 24,
   "id": "0d06b23a",
   "metadata": {},
   "outputs": [],
   "source": [
    "X_train, X_test, Y_train, Y_test = train_test_split(X,Y, test_size=0.2, random_state=3)"
   ]
  },
  {
   "cell_type": "code",
   "execution_count": 25,
   "id": "c52d8828",
   "metadata": {},
   "outputs": [],
   "source": [
    "Regressor = RandomForestRegressor(n_estimators= 100)"
   ]
  },
  {
   "cell_type": "code",
   "execution_count": 27,
   "id": "2bd6be5d",
   "metadata": {},
   "outputs": [
    {
     "data": {
      "text/plain": [
       "RandomForestRegressor()"
      ]
     },
     "execution_count": 27,
     "metadata": {},
     "output_type": "execute_result"
    }
   ],
   "source": [
    "Regressor.fit(X_train,Y_train)"
   ]
  },
  {
   "cell_type": "code",
   "execution_count": 28,
   "id": "8ca58eb5",
   "metadata": {},
   "outputs": [],
   "source": [
    "test_data_prediction = Regressor.predict(X_test)"
   ]
  },
  {
   "cell_type": "code",
   "execution_count": 29,
   "id": "41bb07e3",
   "metadata": {},
   "outputs": [
    {
     "data": {
      "text/plain": [
       "array([164.31480092, 127.55479895, 124.20629959, 119.63979899,\n",
       "       126.05369922,  86.37559804, 171.74250156, 137.53500076,\n",
       "       106.91310077, 132.45620164, 120.65669936, 124.84190065,\n",
       "       143.26549831, 104.64380033,  80.67169898, 118.91470016,\n",
       "       140.48359968,  90.45000049,  91.41399935, 128.26520207,\n",
       "       125.78819976, 147.95929941, 116.40130141, 153.14479933,\n",
       "       129.39919909, 129.51490144, 118.06390105, 111.4296003 ,\n",
       "       169.05580189, 157.96879925, 125.9328014 , 154.15150183,\n",
       "       127.07099986, 122.39519796, 116.09880123, 154.83150025,\n",
       "       114.97350032, 120.53130145, 103.83820197, 105.33610041,\n",
       "       135.00619867,  85.75929931, 155.99590148, 121.08720012,\n",
       "       122.14730115, 155.63050075, 120.28479997, 116.5059    ,\n",
       "       168.27640194, 116.65520048, 137.50610125, 161.97979929,\n",
       "       158.77090009, 153.50080093, 123.82600035, 116.9032997 ,\n",
       "       167.20110035, 117.28459999, 165.73930019,  84.11980033,\n",
       "       121.34539921, 122.11470043, 120.04109996, 172.06429801,\n",
       "       118.93719969, 179.75729681, 161.57330249, 138.43680164,\n",
       "       115.85009982,  92.58800064, 172.06529933, 117.78929992,\n",
       "       117.62189882, 125.64689998, 146.9990996 ,  91.25510091,\n",
       "        83.75499866,  88.7929992 , 102.71429917, 124.43430038,\n",
       "       123.346701  , 169.36900281, 121.19069987, 125.58069947,\n",
       "       160.33140604, 120.59650093, 170.27600258, 147.41949753,\n",
       "        87.03009977, 126.61020042, 118.85740042,  90.05360012,\n",
       "       118.66619973, 116.73629819,  89.08799918, 138.616302  ,\n",
       "       160.60720043, 131.07820398, 105.62260124, 122.63099951,\n",
       "       120.47850035, 124.44420084, 108.23579983, 115.45390068,\n",
       "       114.04119885, 120.82940052, 157.82080244, 126.28829941,\n",
       "       119.81569976,  91.13199965, 125.31389941, 161.01019824,\n",
       "       159.72890227,  87.60239925, 138.90850099, 166.34089815,\n",
       "       154.96350045, 108.80360049, 109.25329819, 124.44980009,\n",
       "       114.06970172, 117.44889986, 160.49220195, 121.66410012,\n",
       "       143.87979691, 115.99550071, 164.14790195, 119.74659952,\n",
       "       112.24910091, 149.46469864, 104.21399908, 121.84669997,\n",
       "        78.57539946, 161.04129744, 125.67460077, 131.90939942,\n",
       "       120.16289998, 107.68549995, 153.2756003 , 114.62080011,\n",
       "       161.90290073, 128.42320172,  91.66560178, 121.23963795,\n",
       "       130.97609956,  89.3097997 , 120.50159983, 119.99260066,\n",
       "       112.61580061,  90.55120115,  91.20689922, 117.48380026,\n",
       "       150.77410033, 113.36809963, 132.53000087, 117.02100159,\n",
       "       118.9667007 , 156.30920006, 127.90680322, 113.85110021,\n",
       "       119.54430071, 142.7039985 , 115.69400103,  92.20599869,\n",
       "        89.8855007 , 166.45520263, 112.13749988, 115.63060098,\n",
       "       119.87470117, 114.57259996,  92.36969859, 117.25219956,\n",
       "       154.66200345, 152.36060077,  93.06280025, 125.94740078,\n",
       "       104.26629947, 155.49180081, 115.28360029, 120.11219805,\n",
       "        91.6851994 ,  91.95780061, 153.28520077, 173.30189744,\n",
       "        79.40999944, 126.00120049, 119.36520063, 150.92170061,\n",
       "        91.25170076, 164.24040198, 138.62759665, 117.90180121,\n",
       "       141.75020062,  82.13539811, 124.90269893, 118.85750094,\n",
       "        90.98900069,  94.08009965, 173.98019696, 164.88360046,\n",
       "       167.27660013, 139.39450228, 118.4359007 , 130.85160132,\n",
       "       124.36410042, 129.19469934, 121.49179992, 122.31079851,\n",
       "       127.14810052, 104.30860007, 115.67920095, 133.69149947,\n",
       "       165.03909748, 125.60330018, 113.60810217, 123.14530029,\n",
       "        82.36040083, 102.86189839, 121.31819881, 163.66910051,\n",
       "       121.3739998 ,  87.30710061, 127.45009998, 108.23819954,\n",
       "       158.8743018 , 165.23780003, 123.93940019, 124.61740044,\n",
       "       146.2487984 ,  90.15519995,  88.42360056, 115.76530056,\n",
       "       108.61459984, 128.28649914, 108.40620005, 114.76679971,\n",
       "       167.76539906, 120.07019995, 107.07359933, 158.55829905,\n",
       "       124.95689911, 114.29180117, 104.17700008, 150.27669862,\n",
       "       165.66149804, 171.26760338,  92.24689916, 114.61120045,\n",
       "       118.92589929, 113.31960102, 159.73020537, 120.24749912,\n",
       "        72.71770209, 118.95709946, 115.68620029, 166.03459801,\n",
       "       118.81930046, 114.60229958,  94.3203994 , 117.01150151,\n",
       "       128.19369848, 114.31049963, 156.46680089, 119.36660032,\n",
       "       118.5315011 , 161.29710084, 118.70960046,  95.02099896,\n",
       "       118.0798014 , 165.83450084, 111.0094988 , 146.68160158,\n",
       "       118.95410073,  86.51229903, 171.72260247, 153.7419982 ,\n",
       "       162.37250071,  84.4366982 , 119.60620031, 108.49249991,\n",
       "        92.78199983,  72.27149963,  93.0240997 , 117.70699994,\n",
       "       177.14329971, 115.97740127, 123.29909933,  86.89219879,\n",
       "       113.47230056, 111.9112001 , 161.27490395, 118.89510102,\n",
       "        87.0920978 , 168.73009805, 125.33020008, 125.93150048,\n",
       "       121.4038001 , 116.62570025,  90.00559945, 146.81540016,\n",
       "       108.89019921,  91.60319827, 118.36229994, 152.68000186,\n",
       "       123.05389924, 141.08349919, 148.20470045, 108.50099966,\n",
       "       129.26720298, 112.2804004 , 114.43770018, 115.34369998,\n",
       "       158.0052977 ,  83.63139889, 124.04129922,  91.60949958,\n",
       "       113.63079885, 127.03869831,  92.25400041, 129.79230178,\n",
       "       124.61059907, 128.17179845, 122.08429881,  90.06519931,\n",
       "        87.01399814, 137.04609841, 165.50290174, 169.49899965,\n",
       "       160.01010318, 124.26879988, 106.42880079, 116.3490998 ,\n",
       "       124.67559967,  91.66669949, 166.58739786,  91.68539913,\n",
       "       127.79480111, 117.78260097, 165.12529942, 115.35939968,\n",
       "       163.14900258, 168.68079841,  84.0943999 , 117.30290028,\n",
       "       101.87249904, 130.31750125, 112.92799936,  80.45899903,\n",
       "        92.43599992, 135.50899949,  98.61519961, 117.81399888,\n",
       "       116.68950066, 118.91449995, 125.93690106, 114.9576002 ,\n",
       "        97.13260124,  73.04779924, 118.26300004,  89.32550075,\n",
       "       135.23769959, 113.41849931, 114.5842    , 110.5676007 ,\n",
       "        86.04979903, 113.06370031, 126.5191007 , 156.39069813,\n",
       "       119.72819989,  77.12430017, 113.61070103,  87.02949805,\n",
       "       114.42849874,  96.15430224, 115.75540037, 124.9524992 ,\n",
       "       114.34550038, 117.87570056, 119.16970019, 125.67139866,\n",
       "       111.93750141, 109.22439967, 165.65510243,  96.19979867,\n",
       "       121.18960129,  91.95230073, 115.87510098, 110.86499926,\n",
       "       155.92780416, 117.76849993, 153.97580067,  86.42239904,\n",
       "       141.79589866, 110.17709866, 106.42349981, 128.12969813,\n",
       "       119.00879945, 120.02710005, 117.89750049, 148.35680151,\n",
       "       109.46009893, 135.85440152, 158.4265997 , 107.37069967,\n",
       "       102.58209914, 167.32449851, 120.5763005 , 140.4618013 ,\n",
       "       104.3812997 ,  94.13199942, 114.30410148, 123.56710087,\n",
       "       109.92989892, 166.39360074, 170.93080159, 117.91419941,\n",
       "       169.3134977 , 126.16160083, 161.00190486,  95.61149971,\n",
       "        99.12049931, 125.29799958,  73.09370001,  89.6658995 ,\n",
       "        93.47830044, 147.09889788, 114.29190126, 108.29369931,\n",
       "       123.05249862,  89.7051998 , 148.57180081,  93.70779784,\n",
       "        86.19829878, 106.89960073,  73.84539984, 134.39299977,\n",
       "       167.19980176, 117.54299996, 117.84789886,  96.3156014 ,\n",
       "       126.18470023, 128.07260104, 113.81550024, 126.9351003 ,\n",
       "       127.37050003, 115.90610094,  95.60239944, 123.29039927,\n",
       "       126.18490073,  89.84160082, 133.36839967, 118.82140069,\n",
       "       115.9493983 , 145.02580009,  93.6783005 , 116.64519972,\n",
       "        87.82910069, 119.78609979])"
      ]
     },
     "execution_count": 29,
     "metadata": {},
     "output_type": "execute_result"
    }
   ],
   "source": [
    "test_data_prediction"
   ]
  },
  {
   "cell_type": "code",
   "execution_count": 30,
   "id": "126baaab",
   "metadata": {},
   "outputs": [
    {
     "name": "stdout",
     "output_type": "stream",
     "text": [
      "Squared Error: 0.9854835106337719\n"
     ]
    }
   ],
   "source": [
    "Error_value= metrics.r2_score(Y_test, test_data_prediction)\n",
    "print(\"Squared Error:\",Error_value)"
   ]
  },
  {
   "cell_type": "code",
   "execution_count": 31,
   "id": "e4b6038f",
   "metadata": {},
   "outputs": [],
   "source": [
    "Y_test = list(Y_test)"
   ]
  },
  {
   "cell_type": "code",
   "execution_count": 32,
   "id": "55dabe65",
   "metadata": {},
   "outputs": [
    {
     "data": {
      "image/png": "[encoded data removed]",
      "text/plain": [
       "<Figure size 432x288 with 1 Axes>"
      ]
     },
     "metadata": {
      "needs_background": "light"
     },
     "output_type": "display_data"
    }
   ],
   "source": [
    "plt.plot(Y_test, color = 'blue', label = 'Actual Value')\n",
    "plt.plot(test_data_prediction, color='orange', label = 'Predicted value')\n",
    "plt.title('Actual Price vs Predicted Price')\n",
    "plt.xlabel('Number of Values')\n",
    "plt.ylabel('GLD price')\n",
    "plt.legend()\n",
    "plt.show()"
   ]
  },
  {
   "cell_type": "code",
   "execution_count": 36,
   "id": "31382834",
   "metadata": {},
   "outputs": [
    {
     "name": "stdout",
     "output_type": "stream",
     "text": [
      "Gold price would be: [93.93300054]\n"
     ]
    }
   ],
   "source": [
    "Input_data = (1254.25,70.2527,18.200001,0.9232)\n",
    "Input_data_numpy_array = np.asarray(Input_data)\n",
    "Input_data_reshaped = Input_data_numpy_array.reshape(1,-1)\n",
    "test_case_prediction = Regressor.predict(Input_data_reshaped)\n",
    "print(\"Gold price would be:\",test_case_prediction)"
   ]
  },
  {
   "cell_type": "code",
   "execution_count": null,
   "id": "147cef92",
   "metadata": {},
   "outputs": [],
   "source": []
  }
 ],
 "metadata": {
  "kernelspec": {
   "display_name": "Python 3",
   "language": "python",
   "name": "python3"
  },
  "language_info": {
   "codemirror_mode": {
    "name": "ipython",
    "version": 3
   },
   "file_extension": ".py",
   "mimetype": "text/x-python",
   "name": "python",
   "nbconvert_exporter": "python",
   "pygments_lexer": "ipython3",
   "version": "3.8.8"
  }
 },
 "nbformat": 4,
 "nbformat_minor": 5
}
